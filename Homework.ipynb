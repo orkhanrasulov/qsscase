{
 "cells": [
  {
   "cell_type": "code",
   "execution_count": 1,
   "metadata": {},
   "outputs": [],
   "source": [
    "# Import pandas for data processing\n",
    "import pandas as pd"
   ]
  },
  {
   "cell_type": "code",
   "execution_count": 2,
   "metadata": {},
   "outputs": [
    {
     "data": {
      "text/html": [
       "<div>\n",
       "<style scoped>\n",
       "    .dataframe tbody tr th:only-of-type {\n",
       "        vertical-align: middle;\n",
       "    }\n",
       "\n",
       "    .dataframe tbody tr th {\n",
       "        vertical-align: top;\n",
       "    }\n",
       "\n",
       "    .dataframe thead th {\n",
       "        text-align: right;\n",
       "    }\n",
       "</style>\n",
       "<table border=\"1\" class=\"dataframe\">\n",
       "  <thead>\n",
       "    <tr style=\"text-align: right;\">\n",
       "      <th></th>\n",
       "      <th>marks</th>\n",
       "      <th>shours</th>\n",
       "    </tr>\n",
       "  </thead>\n",
       "  <tbody>\n",
       "    <tr>\n",
       "      <th>0</th>\n",
       "      <td>72</td>\n",
       "      <td>20.0</td>\n",
       "    </tr>\n",
       "    <tr>\n",
       "      <th>1</th>\n",
       "      <td>42</td>\n",
       "      <td>19.0</td>\n",
       "    </tr>\n",
       "    <tr>\n",
       "      <th>2</th>\n",
       "      <td>77</td>\n",
       "      <td>7.0</td>\n",
       "    </tr>\n",
       "    <tr>\n",
       "      <th>3</th>\n",
       "      <td>93</td>\n",
       "      <td>22.0</td>\n",
       "    </tr>\n",
       "    <tr>\n",
       "      <th>4</th>\n",
       "      <td>30</td>\n",
       "      <td>20.0</td>\n",
       "    </tr>\n",
       "    <tr>\n",
       "      <th>5</th>\n",
       "      <td>53</td>\n",
       "      <td>15.0</td>\n",
       "    </tr>\n",
       "    <tr>\n",
       "      <th>6</th>\n",
       "      <td>74</td>\n",
       "      <td>8.0</td>\n",
       "    </tr>\n",
       "    <tr>\n",
       "      <th>7</th>\n",
       "      <td>28</td>\n",
       "      <td>24.0</td>\n",
       "    </tr>\n",
       "    <tr>\n",
       "      <th>8</th>\n",
       "      <td>69</td>\n",
       "      <td>26.0</td>\n",
       "    </tr>\n",
       "    <tr>\n",
       "      <th>9</th>\n",
       "      <td>64</td>\n",
       "      <td>7.0</td>\n",
       "    </tr>\n",
       "    <tr>\n",
       "      <th>10</th>\n",
       "      <td>87</td>\n",
       "      <td>30.0</td>\n",
       "    </tr>\n",
       "    <tr>\n",
       "      <th>11</th>\n",
       "      <td>70</td>\n",
       "      <td>8.0</td>\n",
       "    </tr>\n",
       "    <tr>\n",
       "      <th>12</th>\n",
       "      <td>42</td>\n",
       "      <td>18.0</td>\n",
       "    </tr>\n",
       "    <tr>\n",
       "      <th>13</th>\n",
       "      <td>79</td>\n",
       "      <td>23.0</td>\n",
       "    </tr>\n",
       "    <tr>\n",
       "      <th>14</th>\n",
       "      <td>37</td>\n",
       "      <td>22.0</td>\n",
       "    </tr>\n",
       "    <tr>\n",
       "      <th>15</th>\n",
       "      <td>52</td>\n",
       "      <td>16.0</td>\n",
       "    </tr>\n",
       "    <tr>\n",
       "      <th>16</th>\n",
       "      <td>51</td>\n",
       "      <td>15.0</td>\n",
       "    </tr>\n",
       "    <tr>\n",
       "      <th>17</th>\n",
       "      <td>25</td>\n",
       "      <td>23.0</td>\n",
       "    </tr>\n",
       "    <tr>\n",
       "      <th>18</th>\n",
       "      <td>48</td>\n",
       "      <td>17.0</td>\n",
       "    </tr>\n",
       "    <tr>\n",
       "      <th>19</th>\n",
       "      <td>85</td>\n",
       "      <td>21.0</td>\n",
       "    </tr>\n",
       "    <tr>\n",
       "      <th>20</th>\n",
       "      <td>22</td>\n",
       "      <td>21.0</td>\n",
       "    </tr>\n",
       "    <tr>\n",
       "      <th>21</th>\n",
       "      <td>63</td>\n",
       "      <td>7.5</td>\n",
       "    </tr>\n",
       "    <tr>\n",
       "      <th>22</th>\n",
       "      <td>42</td>\n",
       "      <td>17.0</td>\n",
       "    </tr>\n",
       "    <tr>\n",
       "      <th>23</th>\n",
       "      <td>60</td>\n",
       "      <td>15.0</td>\n",
       "    </tr>\n",
       "    <tr>\n",
       "      <th>24</th>\n",
       "      <td>56</td>\n",
       "      <td>18.0</td>\n",
       "    </tr>\n",
       "    <tr>\n",
       "      <th>25</th>\n",
       "      <td>23</td>\n",
       "      <td>5.0</td>\n",
       "    </tr>\n",
       "    <tr>\n",
       "      <th>26</th>\n",
       "      <td>42</td>\n",
       "      <td>16.0</td>\n",
       "    </tr>\n",
       "    <tr>\n",
       "      <th>27</th>\n",
       "      <td>40</td>\n",
       "      <td>14.0</td>\n",
       "    </tr>\n",
       "    <tr>\n",
       "      <th>28</th>\n",
       "      <td>28</td>\n",
       "      <td>27.0</td>\n",
       "    </tr>\n",
       "    <tr>\n",
       "      <th>29</th>\n",
       "      <td>47</td>\n",
       "      <td>17.0</td>\n",
       "    </tr>\n",
       "    <tr>\n",
       "      <th>30</th>\n",
       "      <td>25</td>\n",
       "      <td>3.0</td>\n",
       "    </tr>\n",
       "    <tr>\n",
       "      <th>31</th>\n",
       "      <td>31</td>\n",
       "      <td>4.0</td>\n",
       "    </tr>\n",
       "    <tr>\n",
       "      <th>32</th>\n",
       "      <td>63</td>\n",
       "      <td>9.0</td>\n",
       "    </tr>\n",
       "    <tr>\n",
       "      <th>33</th>\n",
       "      <td>34</td>\n",
       "      <td>2.0</td>\n",
       "    </tr>\n",
       "    <tr>\n",
       "      <th>34</th>\n",
       "      <td>49</td>\n",
       "      <td>14.0</td>\n",
       "    </tr>\n",
       "    <tr>\n",
       "      <th>35</th>\n",
       "      <td>23</td>\n",
       "      <td>2.0</td>\n",
       "    </tr>\n",
       "    <tr>\n",
       "      <th>36</th>\n",
       "      <td>56</td>\n",
       "      <td>16.0</td>\n",
       "    </tr>\n",
       "    <tr>\n",
       "      <th>37</th>\n",
       "      <td>45</td>\n",
       "      <td>14.0</td>\n",
       "    </tr>\n",
       "    <tr>\n",
       "      <th>38</th>\n",
       "      <td>53</td>\n",
       "      <td>16.0</td>\n",
       "    </tr>\n",
       "    <tr>\n",
       "      <th>39</th>\n",
       "      <td>73</td>\n",
       "      <td>10.0</td>\n",
       "    </tr>\n",
       "    <tr>\n",
       "      <th>40</th>\n",
       "      <td>22</td>\n",
       "      <td>4.0</td>\n",
       "    </tr>\n",
       "    <tr>\n",
       "      <th>41</th>\n",
       "      <td>52</td>\n",
       "      <td>18.0</td>\n",
       "    </tr>\n",
       "    <tr>\n",
       "      <th>42</th>\n",
       "      <td>64</td>\n",
       "      <td>23.0</td>\n",
       "    </tr>\n",
       "    <tr>\n",
       "      <th>43</th>\n",
       "      <td>42</td>\n",
       "      <td>16.0</td>\n",
       "    </tr>\n",
       "    <tr>\n",
       "      <th>44</th>\n",
       "      <td>82</td>\n",
       "      <td>26.0</td>\n",
       "    </tr>\n",
       "    <tr>\n",
       "      <th>45</th>\n",
       "      <td>40</td>\n",
       "      <td>17.0</td>\n",
       "    </tr>\n",
       "    <tr>\n",
       "      <th>46</th>\n",
       "      <td>40</td>\n",
       "      <td>16.0</td>\n",
       "    </tr>\n",
       "    <tr>\n",
       "      <th>47</th>\n",
       "      <td>20</td>\n",
       "      <td>5.0</td>\n",
       "    </tr>\n",
       "    <tr>\n",
       "      <th>48</th>\n",
       "      <td>81</td>\n",
       "      <td>21.0</td>\n",
       "    </tr>\n",
       "  </tbody>\n",
       "</table>\n",
       "</div>"
      ],
      "text/plain": [
       "    marks  shours\n",
       "0      72    20.0\n",
       "1      42    19.0\n",
       "2      77     7.0\n",
       "3      93    22.0\n",
       "4      30    20.0\n",
       "5      53    15.0\n",
       "6      74     8.0\n",
       "7      28    24.0\n",
       "8      69    26.0\n",
       "9      64     7.0\n",
       "10     87    30.0\n",
       "11     70     8.0\n",
       "12     42    18.0\n",
       "13     79    23.0\n",
       "14     37    22.0\n",
       "15     52    16.0\n",
       "16     51    15.0\n",
       "17     25    23.0\n",
       "18     48    17.0\n",
       "19     85    21.0\n",
       "20     22    21.0\n",
       "21     63     7.5\n",
       "22     42    17.0\n",
       "23     60    15.0\n",
       "24     56    18.0\n",
       "25     23     5.0\n",
       "26     42    16.0\n",
       "27     40    14.0\n",
       "28     28    27.0\n",
       "29     47    17.0\n",
       "30     25     3.0\n",
       "31     31     4.0\n",
       "32     63     9.0\n",
       "33     34     2.0\n",
       "34     49    14.0\n",
       "35     23     2.0\n",
       "36     56    16.0\n",
       "37     45    14.0\n",
       "38     53    16.0\n",
       "39     73    10.0\n",
       "40     22     4.0\n",
       "41     52    18.0\n",
       "42     64    23.0\n",
       "43     42    16.0\n",
       "44     82    26.0\n",
       "45     40    17.0\n",
       "46     40    16.0\n",
       "47     20     5.0\n",
       "48     81    21.0"
      ]
     },
     "execution_count": 2,
     "metadata": {},
     "output_type": "execute_result"
    }
   ],
   "source": [
    "# Read the dataset\n",
    "data = pd.read_csv(r'C:\\Users\\o.resulov\\Desktop\\QSS\\studentclusters.csv')\n",
    "data"
   ]
  },
  {
   "cell_type": "code",
   "execution_count": 3,
   "metadata": {},
   "outputs": [
    {
     "data": {
      "text/plain": [
       "Text(0, 0.5, 'shours')"
      ]
     },
     "execution_count": 3,
     "metadata": {},
     "output_type": "execute_result"
    },
    {
     "data": {
      "image/png": "[encoded data removed]",
      "text/plain": [
       "<Figure size 432x288 with 1 Axes>"
      ]
     },
     "metadata": {
      "needs_background": "light"
     },
     "output_type": "display_data"
    }
   ],
   "source": [
    "# Visualise the data using Scatter plot\n",
    "import matplotlib.pyplot as plt\n",
    "%matplotlib inline\n",
    "x = data['marks']\n",
    "y = data['shours']\n",
    "\n",
    "plt.scatter(x,y,s=100, c='red', label='Students')\n",
    "plt.title('student clustering')\n",
    "plt.xlabel('marks')\n",
    "plt.ylabel('shours')"
   ]
  },
  {
   "cell_type": "code",
   "execution_count": 4,
   "metadata": {},
   "outputs": [
    {
     "data": {
      "text/plain": [
       "93"
      ]
     },
     "execution_count": 4,
     "metadata": {},
     "output_type": "execute_result"
    }
   ],
   "source": [
    "data['marks'].max()"
   ]
  },
  {
   "cell_type": "code",
   "execution_count": 5,
   "metadata": {},
   "outputs": [
    {
     "data": {
      "text/plain": [
       "20"
      ]
     },
     "execution_count": 5,
     "metadata": {},
     "output_type": "execute_result"
    }
   ],
   "source": [
    "data['marks'].min()"
   ]
  },
  {
   "cell_type": "code",
   "execution_count": 6,
   "metadata": {},
   "outputs": [
    {
     "data": {
      "text/plain": [
       "30.0"
      ]
     },
     "execution_count": 6,
     "metadata": {},
     "output_type": "execute_result"
    }
   ],
   "source": [
    "data['shours'].max()"
   ]
  },
  {
   "cell_type": "code",
   "execution_count": 7,
   "metadata": {},
   "outputs": [
    {
     "data": {
      "text/plain": [
       "2.0"
      ]
     },
     "execution_count": 7,
     "metadata": {},
     "output_type": "execute_result"
    }
   ],
   "source": [
    "data['shours'].min()"
   ]
  },
  {
   "cell_type": "code",
   "execution_count": 11,
   "metadata": {},
   "outputs": [
    {
     "data": {
      "text/plain": [
       "array([[72. , 20. ],\n",
       "       [42. , 19. ],\n",
       "       [77. ,  7. ],\n",
       "       [93. , 22. ],\n",
       "       [30. , 20. ],\n",
       "       [53. , 15. ],\n",
       "       [74. ,  8. ],\n",
       "       [28. , 24. ],\n",
       "       [69. , 26. ],\n",
       "       [64. ,  7. ],\n",
       "       [87. , 30. ],\n",
       "       [70. ,  8. ],\n",
       "       [42. , 18. ],\n",
       "       [79. , 23. ],\n",
       "       [37. , 22. ],\n",
       "       [52. , 16. ],\n",
       "       [51. , 15. ],\n",
       "       [25. , 23. ],\n",
       "       [48. , 17. ],\n",
       "       [85. , 21. ],\n",
       "       [22. , 21. ],\n",
       "       [63. ,  7.5],\n",
       "       [42. , 17. ],\n",
       "       [60. , 15. ],\n",
       "       [56. , 18. ],\n",
       "       [23. ,  5. ],\n",
       "       [42. , 16. ],\n",
       "       [40. , 14. ],\n",
       "       [28. , 27. ],\n",
       "       [47. , 17. ],\n",
       "       [25. ,  3. ],\n",
       "       [31. ,  4. ],\n",
       "       [63. ,  9. ],\n",
       "       [34. ,  2. ],\n",
       "       [49. , 14. ],\n",
       "       [23. ,  2. ],\n",
       "       [56. , 16. ],\n",
       "       [45. , 14. ],\n",
       "       [53. , 16. ],\n",
       "       [73. , 10. ],\n",
       "       [22. ,  4. ],\n",
       "       [52. , 18. ],\n",
       "       [64. , 23. ],\n",
       "       [42. , 16. ],\n",
       "       [82. , 26. ],\n",
       "       [40. , 17. ],\n",
       "       [40. , 16. ],\n",
       "       [20. ,  5. ],\n",
       "       [81. , 21. ]])"
      ]
     },
     "execution_count": 11,
     "metadata": {},
     "output_type": "execute_result"
    }
   ],
   "source": [
    "import numpy as np\n",
    "x = np.array(data)\n",
    "x.reshape(-2, 2)"
   ]
  },
  {
   "cell_type": "code",
   "execution_count": 12,
   "metadata": {},
   "outputs": [
    {
     "data": {
      "text/plain": [
       "array([[0.71232877, 0.64285714],\n",
       "       [0.30136986, 0.60714286],\n",
       "       [0.78082192, 0.17857143],\n",
       "       [1.        , 0.71428571],\n",
       "       [0.1369863 , 0.64285714],\n",
       "       [0.45205479, 0.46428571],\n",
       "       [0.73972603, 0.21428571],\n",
       "       [0.10958904, 0.78571429],\n",
       "       [0.67123288, 0.85714286],\n",
       "       [0.60273973, 0.17857143],\n",
       "       [0.91780822, 1.        ],\n",
       "       [0.68493151, 0.21428571],\n",
       "       [0.30136986, 0.57142857],\n",
       "       [0.80821918, 0.75      ],\n",
       "       [0.23287671, 0.71428571],\n",
       "       [0.43835616, 0.5       ],\n",
       "       [0.42465753, 0.46428571],\n",
       "       [0.06849315, 0.75      ],\n",
       "       [0.38356164, 0.53571429],\n",
       "       [0.89041096, 0.67857143],\n",
       "       [0.02739726, 0.67857143],\n",
       "       [0.5890411 , 0.19642857],\n",
       "       [0.30136986, 0.53571429],\n",
       "       [0.54794521, 0.46428571],\n",
       "       [0.49315068, 0.57142857],\n",
       "       [0.04109589, 0.10714286],\n",
       "       [0.30136986, 0.5       ],\n",
       "       [0.2739726 , 0.42857143],\n",
       "       [0.10958904, 0.89285714],\n",
       "       [0.36986301, 0.53571429],\n",
       "       [0.06849315, 0.03571429],\n",
       "       [0.15068493, 0.07142857],\n",
       "       [0.5890411 , 0.25      ],\n",
       "       [0.19178082, 0.        ],\n",
       "       [0.39726027, 0.42857143],\n",
       "       [0.04109589, 0.        ],\n",
       "       [0.49315068, 0.5       ],\n",
       "       [0.34246575, 0.42857143],\n",
       "       [0.45205479, 0.5       ],\n",
       "       [0.7260274 , 0.28571429],\n",
       "       [0.02739726, 0.07142857],\n",
       "       [0.43835616, 0.57142857],\n",
       "       [0.60273973, 0.75      ],\n",
       "       [0.30136986, 0.5       ],\n",
       "       [0.84931507, 0.85714286],\n",
       "       [0.2739726 , 0.53571429],\n",
       "       [0.2739726 , 0.5       ],\n",
       "       [0.        , 0.10714286],\n",
       "       [0.83561644, 0.67857143]])"
      ]
     },
     "execution_count": 12,
     "metadata": {},
     "output_type": "execute_result"
    }
   ],
   "source": [
    "# Fit and Transform the data for MinMax normalization\n",
    "from sklearn.preprocessing import MinMaxScaler\n",
    "scaler = MinMaxScaler(feature_range=(0, 1))\n",
    "mmsk = scaler.fit_transform(data)\n",
    "mmsk"
   ]
  },
  {
   "cell_type": "code",
   "execution_count": 13,
   "metadata": {},
   "outputs": [],
   "source": [
    "# import KMeans for clustering\n",
    "from sklearn.cluster import KMeans"
   ]
  },
  {
   "cell_type": "code",
   "execution_count": 17,
   "metadata": {},
   "outputs": [
    {
     "data": {
      "text/plain": [
       "[21690.30612244898,\n",
       " 7871.224561403509,\n",
       " 4573.115327380952,\n",
       " 3083.407575757576,\n",
       " 1944.1510594668491,\n",
       " 1360.2113636363638,\n",
       " 938.790909090909,\n",
       " 747.2660714285714,\n",
       " 606.3375000000001,\n",
       " 501.50416666666666]"
      ]
     },
     "execution_count": 17,
     "metadata": {},
     "output_type": "execute_result"
    }
   ],
   "source": [
    "# Fit the input data. Create labels and get inertia\n",
    "dett = []\n",
    "for i in range(1, 11):\n",
    "    kmeans = KMeans(n_clusters = i, init = 'k-means++', random_state = 42)\n",
    "    kmeans.fit(x)\n",
    "    dett.append(kmeans.inertia_)\n",
    "dett"
   ]
  },
  {
   "cell_type": "code",
   "execution_count": 20,
   "metadata": {},
   "outputs": [
    {
     "data": {
      "image/png": "[encoded data removed]",
      "text/plain": [
       "<Figure size 1080x576 with 1 Axes>"
      ]
     },
     "metadata": {
      "needs_background": "light"
     },
     "output_type": "display_data"
    }
   ],
   "source": [
    "# Visualise the clusters\n",
    "fig = plt.figure(figsize = (15,8))\n",
    "plt.scatter(x[kmeans==0,0],x[kmeans==0,1],s=100,c='magenta',label='Standard')\n",
    "plt.scatter(x[kmeans==1,0],x[kmeans==1,1],s=100,c='blue',label='Careful')\n",
    "plt.scatter(x[kmeans==2,0],x[kmeans==2,1],s=100,c='green',label='Sensible ')\n",
    "plt.scatter(x[kmeans==3,0],x[kmeans==3,1],s=100,c='black',label='Careless')\n",
    "plt.scatter(x[kmeans==4,0],x[kmeans==4,1],s=100,c='burlywood',label='Target')\n",
    "plt.scatter(kmeans.cluster_centers_[:,0],kmeans.cluster_centers_[:,1],s=200,c='red',label='Centroids')\n",
    "plt.legend()\n",
    "plt.show()\n",
    "\n",
    "#bunu bacarmiram vaxtiniz olanda izah edebilersiniz ?"
   ]
  },
  {
   "cell_type": "code",
   "execution_count": 21,
   "metadata": {},
   "outputs": [
    {
     "data": {
      "image/png": "[encoded data removed]",
      "text/plain": [
       "<Figure size 432x288 with 1 Axes>"
      ]
     },
     "metadata": {
      "needs_background": "light"
     },
     "output_type": "display_data"
    }
   ],
   "source": [
    "# Elbow method to determine optimum clusters\n",
    "plt.plot(range(1, 11), dett)\n",
    "plt.title('The Elbow Method')\n",
    "plt.xlabel('Number of clusters')\n",
    "plt.ylabel('WCSS')\n",
    "plt.show()"
   ]
  },
  {
   "cell_type": "code",
   "execution_count": null,
   "metadata": {},
   "outputs": [],
   "source": []
  }
 ],
 "metadata": {
  "kernelspec": {
   "display_name": "Python 3",
   "language": "python",
   "name": "python3"
  },
  "language_info": {
   "codemirror_mode": {
    "name": "ipython",
    "version": 3
   },
   "file_extension": ".py",
   "mimetype": "text/x-python",
   "name": "python",
   "nbconvert_exporter": "python",
   "pygments_lexer": "ipython3",
   "version": "3.7.6"
  }
 },
 "nbformat": 4,
 "nbformat_minor": 4
}
